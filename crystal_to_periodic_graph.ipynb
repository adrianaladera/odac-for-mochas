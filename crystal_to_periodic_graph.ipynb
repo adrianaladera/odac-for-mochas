{
 "cells": [
  {
   "attachments": {},
   "cell_type": "markdown",
   "metadata": {},
   "source": [
    "# Turning some mochas into periodic graphs!\n",
    "Adopted from https://docs.e3nn.org/en/latest/guide/periodic_boundary_conditions.html\n",
    "\n",
    "## Importing libraries and shihh"
   ]
  },
  {
   "cell_type": "code",
   "execution_count": 17,
   "metadata": {},
   "outputs": [],
   "source": [
    "import torch\n",
    "from ase.io import read\n",
    "import ase.neighborlist\n",
    "import torch_geometric\n",
    "import torch_geometric.data\n",
    "import os\n",
    "\n",
    "default_dtype = torch.float64\n",
    "torch.set_default_dtype(default_dtype)"
   ]
  },
  {
   "attachments": {},
   "cell_type": "markdown",
   "metadata": {},
   "source": [
    "## Getting the MOChas from the directory thingy"
   ]
  },
  {
   "cell_type": "code",
   "execution_count": 19,
   "metadata": {},
   "outputs": [
    {
     "name": "stdout",
     "output_type": "stream",
     "text": [
      "[Data(x=[120, 10], edge_index=[2, 1936], pos=[120, 3], lattice=[1, 3, 3], edge_shift=[1936, 3]), Data(x=[105, 10], edge_index=[2, 2129], pos=[105, 3], lattice=[1, 3, 3], edge_shift=[2129, 3]), Data(x=[136, 10], edge_index=[2, 2000], pos=[136, 3], lattice=[1, 3, 3], edge_shift=[2000, 3]), Data(x=[204, 10], edge_index=[2, 4224], pos=[204, 3], lattice=[1, 3, 3], edge_shift=[4224, 3]), Data(x=[68, 10], edge_index=[2, 946], pos=[68, 3], lattice=[1, 3, 3], edge_shift=[946, 3]), Data(x=[152, 10], edge_index=[2, 2276], pos=[152, 3], lattice=[1, 3, 3], edge_shift=[2276, 3]), Data(x=[210, 10], edge_index=[2, 4326], pos=[210, 3], lattice=[1, 3, 3], edge_shift=[4326, 3]), Data(x=[180, 10], edge_index=[2, 3114], pos=[180, 3], lattice=[1, 3, 3], edge_shift=[3114, 3]), Data(x=[240, 10], edge_index=[2, 4008], pos=[240, 3], lattice=[1, 3, 3], edge_shift=[4008, 3]), Data(x=[104, 10], edge_index=[2, 1568], pos=[104, 3], lattice=[1, 3, 3], edge_shift=[1568, 3]), Data(x=[272, 10], edge_index=[2, 5364], pos=[272, 3], lattice=[1, 3, 3], edge_shift=[5364, 3]), Data(x=[104, 10], edge_index=[2, 1520], pos=[104, 3], lattice=[1, 3, 3], edge_shift=[1520, 3]), Data(x=[152, 10], edge_index=[2, 2156], pos=[152, 3], lattice=[1, 3, 3], edge_shift=[2156, 3]), Data(x=[108, 10], edge_index=[2, 1508], pos=[108, 3], lattice=[1, 3, 3], edge_shift=[1508, 3]), Data(x=[136, 10], edge_index=[2, 2024], pos=[136, 3], lattice=[1, 3, 3], edge_shift=[2024, 3]), Data(x=[152, 10], edge_index=[2, 2070], pos=[152, 3], lattice=[1, 3, 3], edge_shift=[2070, 3]), Data(x=[104, 10], edge_index=[2, 1584], pos=[104, 3], lattice=[1, 3, 3], edge_shift=[1584, 3]), Data(x=[120, 10], edge_index=[2, 1856], pos=[120, 3], lattice=[1, 3, 3], edge_shift=[1856, 3]), Data(x=[192, 10], edge_index=[2, 3832], pos=[192, 3], lattice=[1, 3, 3], edge_shift=[3832, 3])]\n"
     ]
    }
   ],
   "source": [
    "# folder where MOChas are stored\n",
    "root = \"/Users/adrianaladera/Desktop/MIT/research/mochas/ALL_STRUCTURES/mochas_opendac/\"\n",
    "type_encoding = {'Ag': 0, 'S': 1, 'C': 2, 'H': 3, 'O': 4, 'Cu': 5, 'N': 6, 'Se': 7, 'Na': 8, 'Te': 9}\n",
    "atomic_symbol = 0\n",
    "radial_cutoff = 3.5  # Only include edges for neighboring atoms within a radius of 3.5 Angstroms\n",
    "type_onehot = torch.eye(len(type_encoding))\n",
    "dataset = []\n",
    "\n",
    "for mocha in os.listdir(root):\n",
    "    if mocha.endswith(\".cif\") or mocha.endswith(\".vasp\"):\n",
    "        structure = read(f\"{root}/{mocha}\") # getting structure from cif file\n",
    "\n",
    "        # for species in structure.get_chemical_symbols():\n",
    "        #     if species not in type_encoding.keys():\n",
    "        #         # print(species)\n",
    "        #         type_encoding[species] = atomic_symbol\n",
    "        #         atomic_symbol += 1\n",
    "\n",
    "        edge_src, edge_dst, edge_shift = ase.neighborlist.neighbor_list(\"ijS\", a=structure, cutoff=radial_cutoff, self_interaction=True)\n",
    "\n",
    "        data = torch_geometric.data.Data(\n",
    "            pos=torch.tensor(structure.get_positions()),\n",
    "            lattice=torch.tensor(structure.cell.array).unsqueeze(0),  # We add a dimension for batching\n",
    "            x=type_onehot[[type_encoding[atom] for atom in structure.symbols]],\n",
    "            edge_index=torch.stack([torch.LongTensor(edge_src), torch.LongTensor(edge_dst)], dim=0),\n",
    "            edge_shift=torch.tensor(edge_shift, dtype=default_dtype)\n",
    "        )\n",
    "        dataset.append(data)\n",
    "\n",
    "print(dataset)"
   ]
  },
  {
   "attachments": {},
   "cell_type": "markdown",
   "metadata": {},
   "source": [
    "## Processing relative distance vectors of edges with periodic boundaries"
   ]
  },
  {
   "cell_type": "code",
   "execution_count": 20,
   "metadata": {},
   "outputs": [],
   "source": [
    "def get_relative_distance_vectors(data):\n",
    "    '''data - a torch_geometric.data.Data object'''\n",
    "    edge_src, edge_dst = data['edge_index'][0], data['edge_index'][1]\n",
    "    edge_vec = (data['pos'][edge_dst] - data['pos'][edge_src]\n",
    "            + torch.einsum('ni,nij->nj', data['edge_shift'], data['lattice']))\n",
    "    \n",
    "    return edge_src, edge_dst, edge_vec"
   ]
  },
  {
   "cell_type": "code",
   "execution_count": null,
   "metadata": {},
   "outputs": [],
   "source": []
  }
 ],
 "metadata": {
  "kernelspec": {
   "display_name": "e3nn_pmg",
   "language": "python",
   "name": "python3"
  },
  "language_info": {
   "codemirror_mode": {
    "name": "ipython",
    "version": 3
   },
   "file_extension": ".py",
   "mimetype": "text/x-python",
   "name": "python",
   "nbconvert_exporter": "python",
   "pygments_lexer": "ipython3",
   "version": "3.11.6"
  },
  "orig_nbformat": 4
 },
 "nbformat": 4,
 "nbformat_minor": 2
}
