{
 "cells": [
  {
   "attachments": {},
   "cell_type": "markdown",
   "metadata": {},
   "source": [
    "## odac numbers"
   ]
  },
  {
   "cell_type": "code",
   "execution_count": 7,
   "metadata": {},
   "outputs": [],
   "source": [
    "from ase.data import chemical_symbols"
   ]
  },
  {
   "cell_type": "code",
   "execution_count": 10,
   "metadata": {},
   "outputs": [
    {
     "data": {
      "text/plain": [
       "[]"
      ]
     },
     "execution_count": 10,
     "metadata": {},
     "output_type": "execute_result"
    }
   ],
   "source": [
    "odac_nums = \"/Users/adrianaladera/Desktop/MIT/research/odac-for-mochas/odac23_atomic_numbers.txt\"\n",
    "\n",
    "f = open(odac_nums, 'r')\n",
    "atomic_numbers = [int(i) for i in f.read().split()]\n",
    "# atomic_numbers\n",
    "f.close()\n",
    "\n",
    "mof_symbols = [chemical_symbols[num] for num in atomic_numbers]\n",
    "mocha_symbols = [\"Au\", \"Ag\", \"Cu\", \"Se\", \"Te\", \"S\",\n",
    "                    \"O\", \"F\", \"C\", \"N\", \"Br\"]\n",
    "mof_mocha_species = list(set(mof_symbols).intersection(mocha_symbols))\n",
    "not_in_mochas = list(set(mocha_symbols) - set(mof_mocha_species))\n",
    "not_in_mochas\n"
   ]
  },
  {
   "cell_type": "code",
   "execution_count": null,
   "metadata": {},
   "outputs": [],
   "source": []
  }
 ],
 "metadata": {
  "kernelspec": {
   "display_name": "deeznuts",
   "language": "python",
   "name": "python3"
  },
  "language_info": {
   "codemirror_mode": {
    "name": "ipython",
    "version": 3
   },
   "file_extension": ".py",
   "mimetype": "text/x-python",
   "name": "python",
   "nbconvert_exporter": "python",
   "pygments_lexer": "ipython3",
   "version": "3.11.6"
  },
  "orig_nbformat": 4
 },
 "nbformat": 4,
 "nbformat_minor": 2
}
